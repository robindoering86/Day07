{
 "cells": [
  {
   "cell_type": "markdown",
   "metadata": {},
   "source": [
    "Input the equation as list of numbers and \"operators as string\"\n",
    "\n",
    "Loop until Length of List is 1:\n",
    "    Find first Operator\n",
    "    Use Operator on two Numbers before Operaror\n",
    "    Replace the three listitems with result"
   ]
  },
  {
   "cell_type": "code",
   "execution_count": 38,
   "metadata": {},
   "outputs": [],
   "source": [
    "test_list = [15,7,1,1,\"+\",\"-\",\"/\",3,\"*\",2,1,1,\"+\",\"+\",\"-\"]"
   ]
  },
  {
   "cell_type": "code",
   "execution_count": 39,
   "metadata": {},
   "outputs": [],
   "source": [
    "list_operators = [\"+\",\"-\",\"*\",\"/\"]\n",
    "\n",
    "def rpc(liste):\n",
    "    while len(liste) > 1:\n",
    "        vault = []\n",
    "        result = 0     \n",
    "        for i in list_operators:\n",
    "            if i in liste:\n",
    "                vault.append(liste.index(i))                \n",
    "        selector_index = min(vault)\n",
    "        selector_operator = liste[selector_index]\n",
    "        if selector_operator == \"+\":\n",
    "            result = liste[selector_index-2]+liste[selector_index-1]\n",
    "        elif selector_operator == \"-\":\n",
    "            result = liste[selector_index-2]-liste[selector_index-1]\n",
    "        elif selector_operator == \"*\":\n",
    "            result = liste[selector_index-2]*liste[selector_index-1]\n",
    "        elif selector_operator == \"/\":\n",
    "            result = liste[selector_index-2]/liste[selector_index-1]\n",
    "        else:\n",
    "            print(\"Unknown Operator\")\n",
    "            break\n",
    "        print(liste)\n",
    "        print(liste[selector_index-2],selector_operator,liste[selector_index-1],\"=\",result)\n",
    "        liste.pop(selector_index-2)\n",
    "        liste.pop(selector_index-2)\n",
    "        liste.pop(selector_index-2)\n",
    "        liste.insert(selector_index-2,result) \n",
    "    return liste[0]"
   ]
  },
  {
   "cell_type": "code",
   "execution_count": 40,
   "metadata": {},
   "outputs": [
    {
     "name": "stdout",
     "output_type": "stream",
     "text": [
      "[15, 7, 1, 1, '+', '-', '/', 3, '*', 2, 1, 1, '+', '+', '-']\n",
      "1 + 1 = 2\n",
      "[15, 7, 2, '-', '/', 3, '*', 2, 1, 1, '+', '+', '-']\n",
      "7 - 2 = 5\n",
      "[15, 5, '/', 3, '*', 2, 1, 1, '+', '+', '-']\n",
      "15 / 5 = 3.0\n",
      "[3.0, 3, '*', 2, 1, 1, '+', '+', '-']\n",
      "3.0 * 3 = 9.0\n",
      "[9.0, 2, 1, 1, '+', '+', '-']\n",
      "1 + 1 = 2\n",
      "[9.0, 2, 2, '+', '-']\n",
      "2 + 2 = 4\n",
      "[9.0, 4, '-']\n",
      "9.0 - 4 = 5.0\n"
     ]
    },
    {
     "data": {
      "text/plain": [
       "5.0"
      ]
     },
     "execution_count": 40,
     "metadata": {},
     "output_type": "execute_result"
    }
   ],
   "source": [
    "#%%timeit\n",
    "rpc(test_list)"
   ]
  },
  {
   "cell_type": "code",
   "execution_count": null,
   "metadata": {},
   "outputs": [],
   "source": []
  }
 ],
 "metadata": {
  "kernelspec": {
   "display_name": "Python 3",
   "language": "python",
   "name": "python3"
  },
  "language_info": {
   "codemirror_mode": {
    "name": "ipython",
    "version": 3
   },
   "file_extension": ".py",
   "mimetype": "text/x-python",
   "name": "python",
   "nbconvert_exporter": "python",
   "pygments_lexer": "ipython3",
   "version": "3.7.3"
  }
 },
 "nbformat": 4,
 "nbformat_minor": 2
}
